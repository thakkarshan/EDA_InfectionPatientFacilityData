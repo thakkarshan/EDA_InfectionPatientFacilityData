{
  "nbformat": 4,
  "nbformat_minor": 0,
  "metadata": {
    "colab": {
      "provenance": []
    },
    "kernelspec": {
      "name": "python3",
      "display_name": "Python 3"
    },
    "language_info": {
      "name": "python"
    }
  },
  "cells": [
    {
      "cell_type": "markdown",
      "source": [
        "# Importing libraries"
      ],
      "metadata": {
        "id": "EPRdnfQeMbjC"
      }
    },
    {
      "cell_type": "code",
      "execution_count": 1,
      "metadata": {
        "id": "OXi9tjmuJpB2"
      },
      "outputs": [],
      "source": [
        "import sqlite3\n",
        "import pandas as pd"
      ]
    },
    {
      "cell_type": "markdown",
      "source": [
        "# Task 1 - Connecting to the database"
      ],
      "metadata": {
        "id": "kD_Of1_1Mm6a"
      }
    },
    {
      "cell_type": "code",
      "source": [
        "# Connect to the SQLite database file, this will connect to the DB file\n",
        "conn = sqlite3.connect('/content/infection.db')"
      ],
      "metadata": {
        "id": "DjhXqWYsMxi-"
      },
      "execution_count": 2,
      "outputs": []
    },
    {
      "cell_type": "code",
      "source": [
        "# Create a cursor object to execute SQL queries, this is required to fetch results\n",
        "cursor = conn.cursor()"
      ],
      "metadata": {
        "id": "BkNWqPAEN1P5"
      },
      "execution_count": 3,
      "outputs": []
    },
    {
      "cell_type": "markdown",
      "source": [
        "**Task 1 - Result**"
      ],
      "metadata": {
        "id": "TKwRt3-2XXtZ"
      }
    },
    {
      "cell_type": "code",
      "source": [
        "# Execute SQL queries using the cursor, in this task, we're listing the tables \n",
        "tables = print(cursor.execute(\"SELECT name FROM sqlite_master;\").fetchall())"
      ],
      "metadata": {
        "colab": {
          "base_uri": "https://localhost:8080/"
        },
        "id": "AQqL9yNnOkcY",
        "outputId": "21a2be30-4941-46ff-ed4f-e43dbf019c25"
      },
      "execution_count": 4,
      "outputs": [
        {
          "output_type": "stream",
          "name": "stdout",
          "text": [
            "[('MRSA',), ('CDI',), ('COVID19',)]\n"
          ]
        }
      ]
    },
    {
      "cell_type": "markdown",
      "source": [
        "# Task 2 -  Load the Data into Data Frames\n",
        "\n",
        "Each table is loaded into separate dataframe.\n",
        "\n",
        "\n",
        "\n"
      ],
      "metadata": {
        "id": "qZpOTfNpRWOQ"
      }
    },
    {
      "cell_type": "code",
      "source": [
        "# Execute the query to retrieve tables\n",
        "cursor.execute(\"SELECT name FROM sqlite_master;\")\n",
        "tables = cursor.fetchall()"
      ],
      "metadata": {
        "id": "_o_y6kqNU8KC"
      },
      "execution_count": 6,
      "outputs": []
    },
    {
      "cell_type": "code",
      "source": [
        "# Iterate over the tables, this will show the columns for each type so that we get an idea of schema\n",
        "for table in tables:\n",
        "    table_name = table[0]\n",
        "    print(\"Table Name:\", table_name)\n",
        "    \n",
        "    # Execute the query to retrieve column information\n",
        "    cursor.execute(\"PRAGMA table_info({})\".format(table_name))\n",
        "    \n",
        "    # Fetch all the column information\n",
        "    columns = cursor.fetchall()\n",
        "    print(\"Schema / Number of columns: \",len(columns))\n",
        "    \n",
        "    # Print column information\n",
        "    for column in columns:\n",
        "        column_index = column[0]\n",
        "        column_name = column[1]\n",
        "        data_type = column[2]\n",
        "        print(\"{} : {} : {}\".format(column_index, column_name, data_type)) \n",
        "    \n",
        "    print()  # Empty line"
      ],
      "metadata": {
        "colab": {
          "base_uri": "https://localhost:8080/"
        },
        "id": "eHmOhnNSRdpY",
        "outputId": "5c6d1420-c3fe-41d5-b150-428f777d3332"
      },
      "execution_count": 7,
      "outputs": [
        {
          "output_type": "stream",
          "name": "stdout",
          "text": [
            "Table Name: MRSA\n",
            "Schema / Number of columns:  7\n",
            "0 : patient_identifier : INTEGER\n",
            "1 : age : TEXT\n",
            "2 : unit : TEXT\n",
            "3 : room : INTEGER\n",
            "4 : bed : TEXT\n",
            "5 : result : TEXT\n",
            "6 : treatment : TEXT\n",
            "\n",
            "Table Name: CDI\n",
            "Schema / Number of columns:  7\n",
            "0 : patient_identifier : INTEGER\n",
            "1 : age : TEXT\n",
            "2 : unit : TEXT\n",
            "3 : room : INTEGER\n",
            "4 : bed : TEXT\n",
            "5 : result : TEXT\n",
            "6 : treatment : TEXT\n",
            "\n",
            "Table Name: COVID19\n",
            "Schema / Number of columns:  7\n",
            "0 : patient_identifier : INTEGER\n",
            "1 : age : TEXT\n",
            "2 : unit : TEXT\n",
            "3 : room : INTEGER\n",
            "4 : bed : TEXT\n",
            "5 : result : TEXT\n",
            "6 : treatment : TEXT\n",
            "\n"
          ]
        }
      ]
    },
    {
      "cell_type": "markdown",
      "source": [
        "**Task 2 -Result**"
      ],
      "metadata": {
        "id": "_Vy9UGHvJEIm"
      }
    },
    {
      "cell_type": "code",
      "source": [
        "# Execute the query and fetch the data into a DataFrame\n",
        "df_COVID = pd.read_sql_query(\"SELECT * FROM COVID19\", conn)"
      ],
      "metadata": {
        "id": "ELM16yxNhqBD"
      },
      "execution_count": 8,
      "outputs": []
    },
    {
      "cell_type": "code",
      "source": [
        "# Execute the query and fetch the data into a DataFrame\n",
        "df_CDI = pd.read_sql_query(\"SELECT * FROM CDI\", conn)"
      ],
      "metadata": {
        "id": "ZzMK4JH1oLT0"
      },
      "execution_count": 9,
      "outputs": []
    },
    {
      "cell_type": "code",
      "source": [
        "# Execute the query and fetch the data into a DataFrame\n",
        "df_MRSA = pd.read_sql_query(\"SELECT * FROM MRSA\", conn)"
      ],
      "metadata": {
        "id": "gJwfGSp4oReo"
      },
      "execution_count": 10,
      "outputs": []
    },
    {
      "cell_type": "markdown",
      "source": [
        "# Task 3 - Analyze the Data\n",
        "Note - The visulation is done in Tableau. Here it's more of exploratpry data anlysis, tyding things up before exporting the data.\n",
        "\n",
        "*   Added spearte columns for floor level and facility name\n",
        "*   Added a new column with infection type\n",
        "*   Checked for Null Values\n",
        "\n",
        "\n",
        "\n"
      ],
      "metadata": {
        "id": "od4A15ReIzSc"
      }
    },
    {
      "cell_type": "code",
      "source": [
        "# Check the data types of columns\n",
        "column_data_types = df_MRSA.dtypes\n",
        "\n",
        "# Print the data types\n",
        "print(column_data_types)"
      ],
      "metadata": {
        "colab": {
          "base_uri": "https://localhost:8080/"
        },
        "id": "R4owQ-V8TKwu",
        "outputId": "f1834d91-980e-43e7-878d-07392b544969"
      },
      "execution_count": 11,
      "outputs": [
        {
          "output_type": "stream",
          "name": "stdout",
          "text": [
            "patient_identifier     int64\n",
            "age                   object\n",
            "unit                  object\n",
            "room                   int64\n",
            "bed                   object\n",
            "result                object\n",
            "treatment             object\n",
            "dtype: object\n"
          ]
        }
      ]
    },
    {
      "cell_type": "markdown",
      "source": [
        "The 'unit' column is in the format: “floor level - facility name”. Below, I'm creating two additional columns 'FloorLevel' and 'FacilityName' to sperate the string."
      ],
      "metadata": {
        "id": "Y0msLr1MMFXl"
      }
    },
    {
      "cell_type": "code",
      "source": [
        "# Split the column into two separate columns\n",
        "df_COVID[['FloorLevel', 'FacilityName']] = df_COVID['unit'].str.split(' - ', expand=True)\n",
        "df_CDI[['FloorLevel', 'FacilityName']] = df_CDI['unit'].str.split(' - ', expand=True)\n",
        "df_MRSA[['FloorLevel', 'FacilityName']] = df_MRSA['unit'].str.split(' - ', expand=True)"
      ],
      "metadata": {
        "id": "XPY2L_HdKzJG"
      },
      "execution_count": 12,
      "outputs": []
    },
    {
      "cell_type": "markdown",
      "source": [
        "Below, I'm adding type of infection to corresponding dataframe, this is going to help later in Tableau. "
      ],
      "metadata": {
        "id": "Z49_FvZENWta"
      }
    },
    {
      "cell_type": "code",
      "source": [
        "# Add a new column and set all values to 'Bo'\n",
        "df_COVID['InfectionType'] = 'COVID19'\n",
        "df_CDI['InfectionType'] = 'CDI'\n",
        "df_MRSA['InfectionType'] = 'MRSA'"
      ],
      "metadata": {
        "id": "1GByyeU2Nllu"
      },
      "execution_count": 13,
      "outputs": []
    },
    {
      "cell_type": "markdown",
      "source": [
        "Below, I was checking for null values for each table - just to see if there is need to discard / modify any data."
      ],
      "metadata": {
        "id": "Z9RaCzs_OW0u"
      }
    },
    {
      "cell_type": "code",
      "source": [
        "# Table CDI\n",
        "\n",
        "# Count null values in each column\n",
        "null_counts = df_CDI.isnull().sum()\n",
        "\n",
        "# Print the null value counts\n",
        "print(\"Null Value Counts for Table CDI:\")\n",
        "print(null_counts)"
      ],
      "metadata": {
        "id": "lWw48znxIKRp"
      },
      "execution_count": null,
      "outputs": []
    },
    {
      "cell_type": "code",
      "source": [
        "# Table COVID\n",
        "\n",
        "# Count null values in each column\n",
        "null_counts = df_COVID.isnull().sum()\n",
        "\n",
        "# Print the null value counts\n",
        "print(\"Null Value Counts for Table COVID:\")\n",
        "print(null_counts)"
      ],
      "metadata": {
        "id": "t844gi6FIC4i"
      },
      "execution_count": null,
      "outputs": []
    },
    {
      "cell_type": "code",
      "source": [
        "# Table MRSA\n",
        "\n",
        "# Count null values in each column\n",
        "null_counts = df_MRSA.isnull().sum()\n",
        "\n",
        "# Print the null value counts\n",
        "print(\"Null Value Counts for Table MRSA:\")\n",
        "print(null_counts)"
      ],
      "metadata": {
        "id": "Y15kBeoNIXT4"
      },
      "execution_count": null,
      "outputs": []
    },
    {
      "cell_type": "markdown",
      "source": [
        "Below getting shape for each tables to know number of rows"
      ],
      "metadata": {
        "id": "MRQoKeqRONpP"
      }
    },
    {
      "cell_type": "code",
      "source": [
        "# Get the length of the column using shape\n",
        "column_length = df_MRSA['patient_identifier'].shape[0]\n",
        "print(\"No. of rows in MRSA \", column_length)\n",
        "\n",
        "# Get the length of the column using shape\n",
        "column_length = df_CDI['patient_identifier'].shape[0]\n",
        "print(\"No. of rows in CDI \",column_length)\n",
        "\n",
        "# Get the length of the column using shape\n",
        "column_length = df_COVID['patient_identifier'].shape[0]\n",
        "print(\"No. of rows in MRSA \",column_length)"
      ],
      "metadata": {
        "colab": {
          "base_uri": "https://localhost:8080/"
        },
        "id": "PT5aNzuOciEa",
        "outputId": "0c23e3ea-c625-474c-d4e3-6fc34bbcda5b"
      },
      "execution_count": 17,
      "outputs": [
        {
          "output_type": "stream",
          "name": "stdout",
          "text": [
            "No. of rows in MRSA  5000\n",
            "No. of rows in CDI  8000\n",
            "No. of rows in MRSA  10000\n"
          ]
        }
      ]
    },
    {
      "cell_type": "markdown",
      "source": [
        "# Task 4: Develop Insights"
      ],
      "metadata": {
        "id": "IEUMxxg5QK79"
      }
    },
    {
      "cell_type": "markdown",
      "source": [
        "**Having worked in software industry and from personal experince, I go by the rule that unless it gives you a competive edge, do not re-invvent the wheel!** \n",
        "\n",
        "Tools such as MS Excel, Tableau, PowerBI, etc. are build to do the heavy lifting in making interactive and beautiful visualtions, so save matplotlib for quick exploratory analysis or when absoultely necessary. \n",
        "\n",
        "Please refer to the Tableau Dashborad "
      ],
      "metadata": {
        "id": "Nck00wlhQN-c"
      }
    },
    {
      "cell_type": "code",
      "source": [
        "# Combine the DataFrames into a single DataFrame\n",
        "combined_df = pd.concat([df_COVID, df_MRSA, df_CDI])\n",
        "\n",
        "# Export the combined DataFrame to an Excel file\n",
        "combined_df.to_excel('combined_dataframes.xlsx', index=False)"
      ],
      "metadata": {
        "id": "KO5RjP5wba6c"
      },
      "execution_count": 81,
      "outputs": []
    },
    {
      "cell_type": "markdown",
      "source": [
        "# Miscellaneous"
      ],
      "metadata": {
        "id": "jAoUCA4OPeU9"
      }
    },
    {
      "cell_type": "markdown",
      "source": [
        "Find common patients among all three tables"
      ],
      "metadata": {
        "id": "EGk2IFVhPlVw"
      }
    },
    {
      "cell_type": "code",
      "source": [
        "# Find the common values\n",
        "common_values = set(df_MRSA['patient_identifier']).intersection(df_COVID['patient_identifier'])\n",
        "\n",
        "# Convert the set of common values to a list\n",
        "common_values_list = list(common_values)\n",
        "\n",
        "# Print the common values\n",
        "print(len(common_values_list))"
      ],
      "metadata": {
        "colab": {
          "base_uri": "https://localhost:8080/"
        },
        "id": "oHLmwRs3Hkvk",
        "outputId": "06e85f2e-fc15-4fe6-b79a-e3ce8a026309"
      },
      "execution_count": 21,
      "outputs": [
        {
          "output_type": "stream",
          "name": "stdout",
          "text": [
            "38\n"
          ]
        }
      ]
    },
    {
      "cell_type": "code",
      "source": [
        "# Find the common values\n",
        "common_values_MRSA_COVID = set(df_MRSA['patient_identifier']).intersection(df_COVID['patient_identifier'])\n",
        "common_values_MRSA_COVID_CDI = set(df_CDI['patient_identifier']).intersection(common_values_MRSA_COVID)\n",
        "\n",
        "# Convert the set of common values to a list\n",
        "common_values_MRSA_COVID_CDI = list(common_values_MRSA_COVID_CDI)\n",
        "\n",
        "# Print the common values\n",
        "print(len(common_values_MRSA_COVID_CDI))"
      ],
      "metadata": {
        "colab": {
          "base_uri": "https://localhost:8080/"
        },
        "id": "fDPq3clwTCfS",
        "outputId": "1d39a3e6-1c30-45ed-8a61-7ffcf915d302"
      },
      "execution_count": 23,
      "outputs": [
        {
          "output_type": "stream",
          "name": "stdout",
          "text": [
            "0\n"
          ]
        }
      ]
    },
    {
      "cell_type": "code",
      "source": [
        "common_values = df_COVID['FacilityName'].isin(df_CDI['FacilityName'])\n",
        "\n",
        "# Check if any common values exist\n",
        "if common_values.any():\n",
        "    print(\"The columns have some values in common.\")\n",
        "else:\n",
        "    print(\"The columns do not have any common values.\")"
      ],
      "metadata": {
        "colab": {
          "base_uri": "https://localhost:8080/"
        },
        "id": "edNVuorJHVpo",
        "outputId": "de7d6a27-2918-4e7b-e043-3f803e1fa62f"
      },
      "execution_count": 78,
      "outputs": [
        {
          "output_type": "stream",
          "name": "stdout",
          "text": [
            "The columns have some values in common.\n"
          ]
        }
      ]
    }
  ]
}